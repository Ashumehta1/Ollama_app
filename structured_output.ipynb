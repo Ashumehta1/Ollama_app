{
 "cells": [
  {
   "cell_type": "code",
   "execution_count": 7,
   "id": "7b7fbd6d",
   "metadata": {},
   "outputs": [],
   "source": [
    "from langchain_community.llms import Ollama\n",
    "from typing import TypedDict\n",
    "from pydantic import BaseModel, Field"
   ]
  },
  {
   "cell_type": "code",
   "execution_count": 9,
   "id": "cd75817e",
   "metadata": {},
   "outputs": [
    {
     "name": "stderr",
     "output_type": "stream",
     "text": [
      "C:\\Users\\Ashish\\AppData\\Local\\Temp\\ipykernel_10856\\362231852.py:1: LangChainDeprecationWarning: The class `Ollama` was deprecated in LangChain 0.3.1 and will be removed in 1.0.0. An updated version of the class exists in the :class:`~langchain-ollama package and should be used instead. To use it run `pip install -U :class:`~langchain-ollama` and import as `from :class:`~langchain_ollama import OllamaLLM``.\n",
      "  llm=Ollama(model=\"llama3\")\n"
     ]
    }
   ],
   "source": [
    "llm=Ollama(model=\"llama3\")"
   ]
  },
  {
   "cell_type": "code",
   "execution_count": null,
   "id": "3cf1817d",
   "metadata": {},
   "outputs": [],
   "source": [
    "class evalutionschema(BaseModel):\n",
    "    feedback:str =Field(description=\"Detailed feedback for the essay.\")\n",
    "    score:int =Field(description='score out of 10.',ge=0,le=10)\n",
    " \n",
    " "
   ]
  },
  {
   "cell_type": "code",
   "execution_count": null,
   "id": "f3c7ffc5",
   "metadata": {},
   "outputs": [
    {
     "ename": "NotImplementedError",
     "evalue": "",
     "output_type": "error",
     "traceback": [
      "\u001b[1;31m---------------------------------------------------------------------------\u001b[0m",
      "\u001b[1;31mNotImplementedError\u001b[0m                       Traceback (most recent call last)",
      "Cell \u001b[1;32mIn[11], line 1\u001b[0m\n\u001b[1;32m----> 1\u001b[0m structured_model\u001b[38;5;241m=\u001b[39m\u001b[43mllm\u001b[49m\u001b[38;5;241;43m.\u001b[39;49m\u001b[43mwith_structured_output\u001b[49m\u001b[43m(\u001b[49m\u001b[43mevalutionschema\u001b[49m\u001b[43m)\u001b[49m\n",
      "File \u001b[1;32md:\\python_exercises\\env\\lib\\site-packages\\langchain_core\\language_models\\base.py:258\u001b[0m, in \u001b[0;36mBaseLanguageModel.with_structured_output\u001b[1;34m(self, schema, **kwargs)\u001b[0m\n\u001b[0;32m    255\u001b[0m \u001b[38;5;250m\u001b[39m\u001b[38;5;124;03m\"\"\"Not implemented on this class.\"\"\"\u001b[39;00m\n\u001b[0;32m    256\u001b[0m \u001b[38;5;66;03m# Implement this on child class if there is a way of steering the model to\u001b[39;00m\n\u001b[0;32m    257\u001b[0m \u001b[38;5;66;03m# generate responses that match a given schema.\u001b[39;00m\n\u001b[1;32m--> 258\u001b[0m \u001b[38;5;28;01mraise\u001b[39;00m \u001b[38;5;167;01mNotImplementedError\u001b[39;00m\n",
      "\u001b[1;31mNotImplementedError\u001b[0m: "
     ]
    }
   ],
   "source": [
    "structured_model=llm.with_structured_output(evalutionschema)# getting error because 'with_structured_output' for open_ai"
   ]
  },
  {
   "cell_type": "markdown",
   "id": "788db2c4",
   "metadata": {},
   "source": [
    "# structure output with ollama"
   ]
  },
  {
   "cell_type": "code",
   "execution_count": 12,
   "id": "191e1554",
   "metadata": {},
   "outputs": [],
   "source": [
    "from langchain_community.chat_models import ChatOllama\n",
    "from langchain_core.output_parsers import PydanticOutputParser\n",
    "from langchain_core.prompts import PromptTemplate\n",
    "from pydantic import BaseModel,Field\n"
   ]
  },
  {
   "cell_type": "code",
   "execution_count": null,
   "id": "8d47b643",
   "metadata": {},
   "outputs": [],
   "source": []
  }
 ],
 "metadata": {
  "kernelspec": {
   "display_name": "env",
   "language": "python",
   "name": "python3"
  },
  "language_info": {
   "codemirror_mode": {
    "name": "ipython",
    "version": 3
   },
   "file_extension": ".py",
   "mimetype": "text/x-python",
   "name": "python",
   "nbconvert_exporter": "python",
   "pygments_lexer": "ipython3",
   "version": "3.10.9"
  }
 },
 "nbformat": 4,
 "nbformat_minor": 5
}
