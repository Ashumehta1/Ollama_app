{
 "cells": [
  {
   "cell_type": "code",
   "execution_count": 7,
   "id": "7b7fbd6d",
   "metadata": {},
   "outputs": [],
   "source": [
    "from langchain_community.llms import Ollama\n",
    "from typing import TypedDict\n",
    "from pydantic import BaseModel, Field"
   ]
  },
  {
   "cell_type": "code",
   "execution_count": 8,
   "id": "cd75817e",
   "metadata": {},
   "outputs": [
    {
     "name": "stderr",
     "output_type": "stream",
     "text": [
      "C:\\Users\\Ashish\\AppData\\Local\\Temp\\ipykernel_25720\\362231852.py:1: LangChainDeprecationWarning: The class `Ollama` was deprecated in LangChain 0.3.1 and will be removed in 1.0.0. An updated version of the class exists in the :class:`~langchain-ollama package and should be used instead. To use it run `pip install -U :class:`~langchain-ollama` and import as `from :class:`~langchain_ollama import OllamaLLM``.\n",
      "  llm=Ollama(model=\"llama3\")\n"
     ]
    }
   ],
   "source": [
    "llm=Ollama(model=\"llama3\")"
   ]
  },
  {
   "cell_type": "code",
   "execution_count": 9,
   "id": "3cf1817d",
   "metadata": {},
   "outputs": [],
   "source": [
    "#define schema\n",
    "class evalutionschema(BaseModel):\n",
    "    feedback:str =Field(description=\"Detailed feedback for the essay.\")\n",
    "    score:int =Field(description='score out of 10.',ge=0,le=10)\n",
    " \n",
    " "
   ]
  },
  {
   "cell_type": "code",
   "execution_count": 10,
   "id": "f3c7ffc5",
   "metadata": {},
   "outputs": [
    {
     "ename": "NotImplementedError",
     "evalue": "",
     "output_type": "error",
     "traceback": [
      "\u001b[1;31m---------------------------------------------------------------------------\u001b[0m",
      "\u001b[1;31mNotImplementedError\u001b[0m                       Traceback (most recent call last)",
      "Cell \u001b[1;32mIn[10], line 1\u001b[0m\n\u001b[1;32m----> 1\u001b[0m structured_model\u001b[38;5;241m=\u001b[39m\u001b[43mllm\u001b[49m\u001b[38;5;241;43m.\u001b[39;49m\u001b[43mwith_structured_output\u001b[49m\u001b[43m(\u001b[49m\u001b[43mevalutionschema\u001b[49m\u001b[43m)\u001b[49m\u001b[38;5;66;03m# getting error because 'with_structured_output' for open_ai\u001b[39;00m\n",
      "File \u001b[1;32md:\\python_exercises\\env\\lib\\site-packages\\langchain_core\\language_models\\base.py:258\u001b[0m, in \u001b[0;36mBaseLanguageModel.with_structured_output\u001b[1;34m(self, schema, **kwargs)\u001b[0m\n\u001b[0;32m    255\u001b[0m \u001b[38;5;250m\u001b[39m\u001b[38;5;124;03m\"\"\"Not implemented on this class.\"\"\"\u001b[39;00m\n\u001b[0;32m    256\u001b[0m \u001b[38;5;66;03m# Implement this on child class if there is a way of steering the model to\u001b[39;00m\n\u001b[0;32m    257\u001b[0m \u001b[38;5;66;03m# generate responses that match a given schema.\u001b[39;00m\n\u001b[1;32m--> 258\u001b[0m \u001b[38;5;28;01mraise\u001b[39;00m \u001b[38;5;167;01mNotImplementedError\u001b[39;00m\n",
      "\u001b[1;31mNotImplementedError\u001b[0m: "
     ]
    }
   ],
   "source": [
    "structured_model=llm.with_structured_output(evalutionschema)# getting error because 'with_structured_output' for open_ai"
   ]
  },
  {
   "cell_type": "markdown",
   "id": "788db2c4",
   "metadata": {},
   "source": [
    "# structure output with ollama"
   ]
  },
  {
   "cell_type": "code",
   "execution_count": 11,
   "id": "191e1554",
   "metadata": {},
   "outputs": [],
   "source": [
    "from langchain_community.chat_models import ChatOllama\n",
    "from langchain_core.output_parsers import PydanticOutputParser\n",
    "from langchain_core.prompts import PromptTemplate\n",
    "from pydantic import BaseModel,Field\n"
   ]
  },
  {
   "cell_type": "code",
   "execution_count": 12,
   "id": "8d47b643",
   "metadata": {},
   "outputs": [],
   "source": [
    "#parser\n",
    "parser=PydanticOutputParser(pydantic_object=evalutionschema)"
   ]
  },
  {
   "cell_type": "code",
   "execution_count": 13,
   "id": "825729c3",
   "metadata": {},
   "outputs": [],
   "source": [
    "#promt\n",
    "promt=PromptTemplate(\n",
    "    template=(\n",
    "        \"Grade the following essay out of 10 and provide feedback.\\n\"\n",
    "        \"Essay: {essay}\\n\\n\"\n",
    "        \"{format_instructions}\"\n",
    "    ),\n",
    "    input_variables=[\"essay\"],   # only \"essay\" is required\n",
    "    partial_variables={          # format_instructions is auto-filled\n",
    "        \"format_instructions\": parser.get_format_instructions()\n",
    "    },\n",
    ")"
   ]
  },
  {
   "cell_type": "code",
   "execution_count": 14,
   "id": "a3eb6c17",
   "metadata": {},
   "outputs": [],
   "source": [
    "llm_model=ChatOllama(model=\"llama3\")"
   ]
  },
  {
   "cell_type": "markdown",
   "id": "224d7fa7",
   "metadata": {},
   "source": [
    "# essay on today's technology"
   ]
  },
  {
   "cell_type": "code",
   "execution_count": 15,
   "id": "67698ac7",
   "metadata": {},
   "outputs": [],
   "source": [
    "essay='''Technology today has become an inseparable part of our daily lives, shaping how we work, learn, communicate, and entertain ourselves. From artificial intelligence and cloud computing to biotechnology and renewable energy, innovations are transforming industries and society at an unprecedented pace.\n",
    "\n",
    "One of the most influential advancements is artificial intelligence (AI), which powers everything from voice assistants and recommendation systems to autonomous vehicles and medical diagnostics. AI is not only improving efficiency but also enabling solutions to complex global challenges, such as climate change and healthcare accessibility.\n",
    "\n",
    "Similarly, the rise of 5G and advanced connectivity has accelerated the digital revolution by making information and services accessible in real time, enhancing opportunities for remote work, online education, and telemedicine. Coupled with cloud computing, businesses can now scale faster, innovate more easily, and operate globally with fewer limitations.\n",
    "\n",
    "However, while technology provides remarkable benefits, it also poses significant challenges. Issues such as data privacy, cybersecurity threats, digital addiction, and the widening digital divide must be carefully managed. Furthermore, the rapid pace of automation raises questions about the future of jobs and the need for continuous reskilling.\n",
    "\n",
    "In conclusion, today’s technology is a double-edged sword—capable of bringing about tremendous progress but also requiring responsible use and thoughtful governance. If balanced well, it has the power to create a future that is smarter, more sustainable, and inclusive for all.\n",
    "'''"
   ]
  },
  {
   "cell_type": "markdown",
   "id": "5849efb3",
   "metadata": {},
   "source": [
    "#chain"
   ]
  },
  {
   "cell_type": "code",
   "execution_count": 16,
   "id": "33e99960",
   "metadata": {},
   "outputs": [
    {
     "name": "stderr",
     "output_type": "stream",
     "text": [
      "C:\\Users\\Ashish\\AppData\\Local\\Temp\\ipykernel_25720\\2961266291.py:2: LangChainDeprecationWarning: The class `LLMChain` was deprecated in LangChain 0.1.17 and will be removed in 1.0. Use :meth:`~RunnableSequence, e.g., `prompt | llm`` instead.\n",
      "  chain=LLMChain(prompt=promt,llm=llm_model,output_parser=parser)\n"
     ]
    }
   ],
   "source": [
    "from langchain.chains import LLMChain\n",
    "chain=LLMChain(prompt=promt,llm=llm_model,output_parser=parser)"
   ]
  },
  {
   "cell_type": "code",
   "execution_count": 17,
   "id": "09e61915",
   "metadata": {},
   "outputs": [],
   "source": [
    "result=chain.invoke({\"essay\":essay})"
   ]
  },
  {
   "cell_type": "code",
   "execution_count": 18,
   "id": "90662a1c",
   "metadata": {},
   "outputs": [
    {
     "name": "stdout",
     "output_type": "stream",
     "text": [
      "{'essay': 'Technology today has become an inseparable part of our daily lives, shaping how we work, learn, communicate, and entertain ourselves. From artificial intelligence and cloud computing to biotechnology and renewable energy, innovations are transforming industries and society at an unprecedented pace.\\n\\nOne of the most influential advancements is artificial intelligence (AI), which powers everything from voice assistants and recommendation systems to autonomous vehicles and medical diagnostics. AI is not only improving efficiency but also enabling solutions to complex global challenges, such as climate change and healthcare accessibility.\\n\\nSimilarly, the rise of 5G and advanced connectivity has accelerated the digital revolution by making information and services accessible in real time, enhancing opportunities for remote work, online education, and telemedicine. Coupled with cloud computing, businesses can now scale faster, innovate more easily, and operate globally with fewer limitations.\\n\\nHowever, while technology provides remarkable benefits, it also poses significant challenges. Issues such as data privacy, cybersecurity threats, digital addiction, and the widening digital divide must be carefully managed. Furthermore, the rapid pace of automation raises questions about the future of jobs and the need for continuous reskilling.\\n\\nIn conclusion, today’s technology is a double-edged sword—capable of bringing about tremendous progress but also requiring responsible use and thoughtful governance. If balanced well, it has the power to create a future that is smarter, more sustainable, and inclusive for all.\\n', 'text': evalutionschema(feedback='The essay provides a good overview of how technology has impacted daily life, and touches on several relevant points such as AI, cloud computing, and connectivity. However, it could be improved by providing more specific examples and analysis to support the claims made.\\n\\nOne strength is that the essay does a good job of highlighting both the benefits and drawbacks of technological advancements, acknowledging the need for responsible use and governance. This shows an understanding of the complexity of the issue and suggests that the writer has given some thought to the implications of technology on society.\\n\\nThat being said, there are a few areas where the essay could be improved. For example, some of the sentences are quite general and could be more specific and nuanced. Additionally, the transitions between paragraphs could be smoother to create a clearer flow of ideas.\\n\\nOverall, while the essay has some strengths, it would benefit from more development and refinement to make its points more persuasively.', score=8)}\n"
     ]
    }
   ],
   "source": [
    "print(result)"
   ]
  },
  {
   "cell_type": "code",
   "execution_count": 20,
   "id": "f257b02f",
   "metadata": {},
   "outputs": [
    {
     "data": {
      "text/plain": [
       "'Technology today has become an inseparable part of our daily lives, shaping how we work, learn, communicate, and entertain ourselves. From artificial intelligence and cloud computing to biotechnology and renewable energy, innovations are transforming industries and society at an unprecedented pace.\\n\\nOne of the most influential advancements is artificial intelligence (AI), which powers everything from voice assistants and recommendation systems to autonomous vehicles and medical diagnostics. AI is not only improving efficiency but also enabling solutions to complex global challenges, such as climate change and healthcare accessibility.\\n\\nSimilarly, the rise of 5G and advanced connectivity has accelerated the digital revolution by making information and services accessible in real time, enhancing opportunities for remote work, online education, and telemedicine. Coupled with cloud computing, businesses can now scale faster, innovate more easily, and operate globally with fewer limitations.\\n\\nHowever, while technology provides remarkable benefits, it also poses significant challenges. Issues such as data privacy, cybersecurity threats, digital addiction, and the widening digital divide must be carefully managed. Furthermore, the rapid pace of automation raises questions about the future of jobs and the need for continuous reskilling.\\n\\nIn conclusion, today’s technology is a double-edged sword—capable of bringing about tremendous progress but also requiring responsible use and thoughtful governance. If balanced well, it has the power to create a future that is smarter, more sustainable, and inclusive for all.\\n'"
      ]
     },
     "execution_count": 20,
     "metadata": {},
     "output_type": "execute_result"
    }
   ],
   "source": [
    "result['essay']"
   ]
  },
  {
   "cell_type": "code",
   "execution_count": 25,
   "id": "10e25e27",
   "metadata": {},
   "outputs": [
    {
     "name": "stdout",
     "output_type": "stream",
     "text": [
      "feedback:-  The essay provides a good overview of how technology has impacted daily life, and touches on several relevant points such as AI, cloud computing, and connectivity. However, it could be improved by providing more specific examples and analysis to support the claims made.\n",
      "\n",
      "One strength is that the essay does a good job of highlighting both the benefits and drawbacks of technological advancements, acknowledging the need for responsible use and governance. This shows an understanding of the complexity of the issue and suggests that the writer has given some thought to the implications of technology on society.\n",
      "\n",
      "That being said, there are a few areas where the essay could be improved. For example, some of the sentences are quite general and could be more specific and nuanced. Additionally, the transitions between paragraphs could be smoother to create a clearer flow of ideas.\n",
      "\n",
      "Overall, while the essay has some strengths, it would benefit from more development and refinement to make its points more persuasively.\n",
      "score:-  8\n"
     ]
    }
   ],
   "source": [
    "feedback_obj = result[\"text\"]   # This is your evalutionschema object\n",
    "print(\"feedback:- \",feedback_obj.feedback)    # Detailed feedback\n",
    "print(\"score:- \",feedback_obj.score)       # Score out of 10"
   ]
  },
  {
   "cell_type": "code",
   "execution_count": null,
   "id": "91c1480c",
   "metadata": {},
   "outputs": [],
   "source": []
  },
  {
   "cell_type": "code",
   "execution_count": null,
   "id": "8f211c32",
   "metadata": {},
   "outputs": [],
   "source": []
  }
 ],
 "metadata": {
  "kernelspec": {
   "display_name": "env",
   "language": "python",
   "name": "python3"
  },
  "language_info": {
   "codemirror_mode": {
    "name": "ipython",
    "version": 3
   },
   "file_extension": ".py",
   "mimetype": "text/x-python",
   "name": "python",
   "nbconvert_exporter": "python",
   "pygments_lexer": "ipython3",
   "version": "3.10.9"
  }
 },
 "nbformat": 4,
 "nbformat_minor": 5
}
